{
 "cells": [
  {
   "cell_type": "code",
   "execution_count": 3,
   "metadata": {},
   "outputs": [],
   "source": [
    "class Apple:\n",
    "    def __init__(self, t, c, sh, sk):\n",
    "        self.type = t\n",
    "        self.color = c\n",
    "        self.mold = 0\n",
    "        self.skin = s\n",
    "        print(\"Apple created!\")"
   ]
  },
  {
   "cell_type": "code",
   "execution_count": 17,
   "metadata": {},
   "outputs": [
    {
     "name": "stdout",
     "output_type": "stream",
     "text": [
      "314.1592653589793\n"
     ]
    }
   ],
   "source": [
    "from math import pi\n",
    "\n",
    "class Circle:\n",
    "    def __init__(self, r):   \n",
    "        self.radius = r\n",
    "    \n",
    "    def area(self):\n",
    "        return pi * self.radius **2\n",
    "    \n",
    "circle = Circle(10)\n",
    "print(circle.area())"
   ]
  },
  {
   "cell_type": "code",
   "execution_count": 18,
   "metadata": {},
   "outputs": [
    {
     "name": "stdout",
     "output_type": "stream",
     "text": [
      "50.0\n"
     ]
    }
   ],
   "source": [
    "class Triangle:\n",
    "    def __init__(self, l, h):   \n",
    "        self.len = l\n",
    "        self.height = h\n",
    "    \n",
    "    def area(self):\n",
    "        return self.len * self.height / 2\n",
    "    \n",
    "triangle = Triangle(10,10)\n",
    "print(triangle.area())"
   ]
  },
  {
   "cell_type": "code",
   "execution_count": 21,
   "metadata": {},
   "outputs": [
    {
     "name": "stdout",
     "output_type": "stream",
     "text": [
      "21\n"
     ]
    }
   ],
   "source": [
    "class Hexagon:\n",
    "    def __init__(self, a1,a2,a3,a4,a5,a6):   \n",
    "        self.a1 = a1\n",
    "        self.a2 = a2\n",
    "        self.a3 = a3\n",
    "        self.a4 = a4\n",
    "        self.a5 = a5\n",
    "        self.a6 = a6\n",
    "    \n",
    "    def calc_perimeter(self):\n",
    "        return self.a1 + self.a2 + self.a3 + self.a4 + self.a5 + self.a6\n",
    "    \n",
    "hexagon = Hexagon(1,2,3,4,5,6)\n",
    "print(hexagon.calc_perimeter())"
   ]
  },
  {
   "cell_type": "code",
   "execution_count": null,
   "metadata": {},
   "outputs": [],
   "source": []
  }
 ],
 "metadata": {
  "kernelspec": {
   "display_name": "Python 3",
   "language": "python",
   "name": "python3"
  },
  "language_info": {
   "codemirror_mode": {
    "name": "ipython",
    "version": 3
   },
   "file_extension": ".py",
   "mimetype": "text/x-python",
   "name": "python",
   "nbconvert_exporter": "python",
   "pygments_lexer": "ipython3",
   "version": "3.7.3"
  }
 },
 "nbformat": 4,
 "nbformat_minor": 2
}
